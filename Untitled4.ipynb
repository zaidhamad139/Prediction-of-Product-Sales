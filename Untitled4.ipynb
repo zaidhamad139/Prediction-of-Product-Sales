{
  "nbformat": 4,
  "nbformat_minor": 0,
  "metadata": {
    "colab": {
      "provenance": [],
      "authorship_tag": "ABX9TyMMpWufkaHcxg0tGcLox2+V",
      "include_colab_link": true
    },
    "kernelspec": {
      "name": "python3",
      "display_name": "Python 3"
    },
    "language_info": {
      "name": "python"
    }
  },
  "cells": [
    {
      "cell_type": "markdown",
      "metadata": {
        "id": "view-in-github",
        "colab_type": "text"
      },
      "source": [
        "<a href=\"https://colab.research.google.com/github/zaidhamad139/Prediction-of-Product-Sales/blob/main/Untitled4.ipynb\" target=\"_parent\"><img src=\"https://colab.research.google.com/assets/colab-badge.svg\" alt=\"Open In Colab\"/></a>"
      ]
    },
    {
      "cell_type": "code",
      "execution_count": null,
      "metadata": {
        "id": "tLjPeQX784Fh"
      },
      "outputs": [],
      "source": [
        "#Prediction of Product Sales"
      ]
    },
    {
      "cell_type": "code",
      "source": [
        "#load and inspect data"
      ],
      "metadata": {
        "id": "e_Ptamc89KYP"
      },
      "execution_count": null,
      "outputs": []
    },
    {
      "cell_type": "code",
      "source": [
        "#Clean Data"
      ],
      "metadata": {
        "id": "umeJMdxM9Os-"
      },
      "execution_count": null,
      "outputs": []
    },
    {
      "cell_type": "code",
      "source": [
        "#Exploratory Data Analysis"
      ],
      "metadata": {
        "id": "ACbCAumk9Rac"
      },
      "execution_count": null,
      "outputs": []
    },
    {
      "cell_type": "code",
      "source": [
        "#Feature Inspection"
      ],
      "metadata": {
        "id": "P6gPwvSt9UU8"
      },
      "execution_count": null,
      "outputs": []
    }
  ]
}